{
 "metadata": {
  "name": "",
  "signature": "sha256:d97fd64c2bc2c9cfe8edaa665ff3a5b6d28ffcdb0f91c8a3d8417771d1686cb4"
 },
 "nbformat": 3,
 "nbformat_minor": 0,
 "worksheets": [
  {
   "cells": [
    {
     "cell_type": "markdown",
     "metadata": {},
     "source": [
      "# Homework 0\n",
      "\n",
      "Due Aug 22\n",
      "\n",
      "Welcome to COSCS594. In this class, we will be using a variety of\n",
      "tools that will require some initial configuration. To ensure\n",
      "everything goes smoothly moving forward, we will setup the majority\n",
      "of those tools in this homework. Some of this will likely be\n",
      "tedious, but doing it now will help be more productive in the\n",
      "exciting work during the rest of the course.  This homework will not be\n",
      "graded, however it is essential that you complete it timely since it\n",
      "will enable us to set up your accounts. "
     ]
    },
    {
     "cell_type": "markdown",
     "metadata": {},
     "source": [
      "# GitHub\n",
      "1. Sign up for GitHub if not already signed up. Pick default (free plan).\n",
      "1. Create a pull request on students repository so I can add you to the to the GitHub group for the course.\n",
      "   1. Start by forking the [students repository](fdac/students)\n",
      "   1. Add your GitHub username as USERNAME.md (click on propose new file)\n",
      "   1. Click on Create Pull Request\n",
      "  \n",
      "Please use that file not simply to include your GitHub username, but also say a few words \n",
      "about yourself and why you are interested in the course. It will be helpful later to form project teams."
     ]
    },
    {
     "cell_type": "markdown",
     "metadata": {},
     "source": [
      "#Set up virtual machine\n",
      "\n",
      "[The article explaining how to set up virtual machine or install packages directly](http://www.eecs.utk.edu/resources/it/kb/cosc-594fda) (kindly provided by Markus Iturriaga Woelfel)\n"
     ]
    },
    {
     "cell_type": "markdown",
     "metadata": {},
     "source": [
      "#Lets see if the setup worked\n",
      "\n",
      "Run the following scripts to see if the install worked"
     ]
    },
    {
     "cell_type": "code",
     "collapsed": false,
     "input": [
      "x = [ 1, 3, 2 ]\n",
      "for item in x:\n",
      "    print \"Item is \", item"
     ],
     "language": "python",
     "metadata": {},
     "outputs": [
      {
       "output_type": "stream",
       "stream": "stdout",
       "text": [
        "Item is  1\n",
        "Item is  3\n",
        "Item is  2\n"
       ]
      }
     ],
     "prompt_number": 1
    },
    {
     "cell_type": "markdown",
     "metadata": {},
     "source": [
      "## There are many modules/libraries that may be needed for the course\n",
      "\n",
      "Lets verify that they are installed properly."
     ]
    },
    {
     "cell_type": "code",
     "collapsed": false,
     "input": [
      "# IPython is what you are using now to run the notebook\n",
      "import IPython\n",
      "print \"IPython version:      %6.6s\" % IPython.__version__\n",
      "\n",
      "# This is data format (like csv but for the web)\n",
      "import json\n",
      "print \"Json version:         %6.6s\" % json.__version__\n",
      "\n",
      "# Pretty table says it all\n",
      "import prettytable\n",
      "print \"Prettytable version:  %6.6s\" % prettytable.__version__\n",
      "\n",
      "# Numpy is a library for working with Arrays\n",
      "import numpy as np\n",
      "print \"Numpy version:        %6.6s\" % np.__version__\n",
      "\n",
      "# SciPy implements many different numerical algorithms\n",
      "import scipy as sp\n",
      "print \"SciPy version:         %6.6s\" % sp.__version__\n",
      "\n",
      "# Pandas is good with data tables\n",
      "import pandas as pd\n",
      "print \"Pandas version:        %6.6s\" % pd.__version__\n",
      "\n",
      "# Module for plotting\n",
      "import matplotlib\n",
      "print \"Matplotlib version:  %6.6s\" % matplotlib.__version__\n",
      "\n",
      "# Requests is a library for getting data from the Web\n",
      "import requests\n",
      "print \"Requests version:     %6.6s\" % requests.__version__\n",
      "\n",
      "# Urllib is more basic that requests\n",
      "import urllib\n",
      "print \"urllib version:      %6.6s\" % urllib.__version__\n",
      "\n",
      "# Networkx is (as the name implies) for networks\n",
      "import networkx as nx\n",
      "print \"NetworkX version:   %6.6s\" % nx.__version__\n",
      "\n",
      "#BeautifulSoup parses HTML documents (once you get them via requests)\n",
      "import BeautifulSoup\n",
      "print \"BeautifulSoup version:%6.6s\" % BeautifulSoup.__version__\n",
      "\n",
      "# Github api for collecting data from GitHub\n",
      "import github\n",
      "\n",
      "# Nltk helps with some natural language tasks, like stemming \n",
      "import nltk\n",
      "print \"Nltk version:         %6.6s\" % nltk.__version__\n",
      "\n",
      "import email\n",
      "print \"Email version:        %6.6s\" % email.__version__\n",
      "\n",
      "# To encode or decode files sent via email\n",
      "import quopri\n",
      "\n",
      "# The functools module provides tools for working with functions and other callable objects, to adapt or extend them for new purposes without completely rewriting them\n",
      "import functools\n",
      "\n",
      "# Bson is a binary format of json to be stored in databases\n",
      "import bson\n",
      "\n",
      "# Mongo is one of common nosql databases (essentially like a python dictionary)\n",
      "import pymongo\n",
      "\n",
      "# OAuth 2.0 is the authorization protocol used by Google APIs\n",
      "import oauth2\n",
      "\n",
      "# Facebook API\n",
      "# pip install facebook-sdk\n",
      "import facebook\n",
      "\n",
      "# Twitter API\n",
      "import twitter\n",
      "\n",
      "# The boilerpipe library provides algorithms to detect and remove the surplus \"clutter\" \n",
      "# (boilerplate, templates) around the main textual content of a web page.\n",
      "import boilerpipe\n",
      "\n",
      "# geopy is a Python 2 and 3 client for several popular geocoding web services\n",
      "import geopy"
     ],
     "language": "python",
     "metadata": {},
     "outputs": [
      {
       "output_type": "stream",
       "stream": "stdout",
       "text": [
        "IPython version:       2.1.0\n",
        "Json version:          2.0.9\n",
        "Prettytable version:   0.7.2"
       ]
      },
      {
       "output_type": "stream",
       "stream": "stdout",
       "text": [
        "\n",
        "Numpy version:         1.8.1"
       ]
      },
      {
       "output_type": "stream",
       "stream": "stdout",
       "text": [
        "\n",
        "SciPy version:         0.13.3"
       ]
      },
      {
       "output_type": "stream",
       "stream": "stdout",
       "text": [
        "\n",
        "Pandas version:        0.13.1"
       ]
      },
      {
       "output_type": "stream",
       "stream": "stdout",
       "text": [
        "\n",
        "Matplotlib version:   1.3.1\n",
        "Requests version:      2.2.1"
       ]
      },
      {
       "output_type": "stream",
       "stream": "stdout",
       "text": [
        "\n",
        "urllib version:        1.17\n",
        "NetworkX version:    1.8.1"
       ]
      },
      {
       "output_type": "stream",
       "stream": "stdout",
       "text": [
        "\n",
        "BeautifulSoup version: 3.2.1"
       ]
      },
      {
       "output_type": "stream",
       "stream": "stdout",
       "text": [
        "\n",
        "Nltk version:          2.0b9"
       ]
      },
      {
       "output_type": "stream",
       "stream": "stdout",
       "text": [
        "\n",
        "Email version:         4.0.3\n"
       ]
      }
     ],
     "prompt_number": 2
    },
    {
     "cell_type": "code",
     "collapsed": false,
     "input": [
      "#Here is what numpy can do\n",
      "print \"Make a 2 row x 3 column array of random numbers\"\n",
      "x = np.random.random((2, 3))\n",
      "print x\n",
      "print\n",
      "\n",
      "#array operation (as in R)\n",
      "print \"Add 5 to every element\"\n",
      "x = x + 5\n",
      "print x\n",
      "print\n",
      "\n",
      "# get a slice (first row) (as in R)\n",
      "print \"Get the first row\"\n",
      "print x[0, :]\n",
      "print"
     ],
     "language": "python",
     "metadata": {},
     "outputs": [
      {
       "output_type": "stream",
       "stream": "stdout",
       "text": [
        "Make a 2 row x 3 column array of random numbers\n",
        "[[ 0.44675434  0.24850839  0.89415471]\n",
        " [ 0.5697988   0.42641407  0.92295729]]\n",
        "\n",
        "Add 5 to every element\n",
        "[[ 5.44675434  5.24850839  5.89415471]\n",
        " [ 5.5697988   5.42641407  5.92295729]]\n",
        "\n",
        "Get the first row\n",
        "[ 5.44675434  5.24850839  5.89415471]\n",
        "\n"
       ]
      }
     ],
     "prompt_number": 3
    },
    {
     "cell_type": "code",
     "collapsed": false,
     "input": [
      "// IPython is quite modern: just press <TAB> at the end of the unfinished statement to see the documentation\n",
      "//       on possible completions.\n",
      "//       In the code cell below, type x.<TAB>, to find built-in operations for x\n",
      "x."
     ],
     "language": "python",
     "metadata": {},
     "outputs": [
      {
       "ename": "SyntaxError",
       "evalue": "invalid syntax (<ipython-input-4-7d21589ce3cb>, line 1)",
       "output_type": "pyerr",
       "traceback": [
        "\u001b[1;36m  File \u001b[1;32m\"<ipython-input-4-7d21589ce3cb>\"\u001b[1;36m, line \u001b[1;32m1\u001b[0m\n\u001b[1;33m    (/, IPython, is, quite, modern:, just, press, <TAB>, at, the, end, of, the, unfinished, statement, to, see, the, documentation)\u001b[0m\n\u001b[1;37m     ^\u001b[0m\n\u001b[1;31mSyntaxError\u001b[0m\u001b[1;31m:\u001b[0m invalid syntax\n"
       ]
      }
     ],
     "prompt_number": 4
    },
    {
     "cell_type": "code",
     "collapsed": false,
     "input": [
      "#this line prepares IPython for working with matplotlib\n",
      "%matplotlib inline  \n",
      "import matplotlib.pyplot as plt  \n",
      "heads = np.random.binomial(500, .5, size=500)\n",
      "histogram = plt.hist(heads, bins=10)"
     ],
     "language": "python",
     "metadata": {},
     "outputs": [
      {
       "metadata": {},
       "output_type": "display_data",
       "png": "[encoded data removed]",
       "text": [
        "<matplotlib.figure.Figure at 0x7fc1499b9d50>"
       ]
      }
     ],
     "prompt_number": 5
    },
    {
     "cell_type": "code",
     "collapsed": false,
     "input": [],
     "language": "python",
     "metadata": {},
     "outputs": []
    }
   ],
   "metadata": {}
  }
 ]
}